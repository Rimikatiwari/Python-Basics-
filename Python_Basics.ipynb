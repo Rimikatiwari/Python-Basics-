{
  "nbformat": 4,
  "nbformat_minor": 0,
  "metadata": {
    "colab": {
      "provenance": []
    },
    "kernelspec": {
      "name": "python3",
      "display_name": "Python 3"
    },
    "language_info": {
      "name": "python"
    }
  },
  "cells": [
    {
      "cell_type": "markdown",
      "source": [
        "# Python Basics"
      ],
      "metadata": {
        "id": "MLQZm9K4a8z0"
      }
    },
    {
      "cell_type": "markdown",
      "source": [
        "1. What is Python, and why is it popular?\n",
        "  - Python is a popular programming language thats used for many different purposes including Data science, web development, Game development and Automation. Python is very poluplar because it is easy to learn, versatile, have an active supportive community, flexible, efficient and it has many libraries/frameworks that can save time and efforts.\n",
        "\n",
        "2. What is an interpreter in Python?\n",
        "   - A Python interpreter is a program that reads executes python code line by line. It translates the code into machine - readable byte code, which is then executed. this is the real time process which gives the immediate result after running it.\n",
        "\n",
        "3. What are pre-defined keywords in Python?\n",
        "   - The predifened keywords in python are reserved words that have a specific meaning and cannot be changed by the programmer. Examples are: True and False, None, Break, continue, for , while, import, from, as.\n",
        "\n",
        "4. Can keywords be used as variable names?\n",
        "   - No, keywords, cannot be used as variable names in any programming languages.\n",
        "\n",
        "5. What is mutability in Python?\n",
        "   - The ability to change the value or state of an object after it has been created is called Mutability.\n",
        "\n",
        "6. Why are lists mutable, but tuples are immutable?\n",
        "   - The lists is mutable because their elements can be modified after they are created. It means you can add, remove or change elements with in a list without having to create a new list.\n",
        "   Meanwhile the Tuples are immutable because their elements cannot be modified, added or removed after they have been created.\n",
        "\n",
        "7. What is the difference between “==” and “is” operators in Python?\n",
        "   - The '==' is known as the equality operator. Which helps us to compare the equality of the objects.\n",
        "   Meanwhile, the 'is' is a identity opeartor. Which helps us to check whether different variables point towards a similar object in the memory.\n",
        "\n",
        "8. What are logical operators in Python?\n",
        "   - The logical operators are symbols or keywords that combine and modify Boolean values to produce a Boolean results. There are three logical operators, which is below-\n",
        "\n",
        "   And, Or, Not\n",
        "\n",
        "9. What is type casting in Python?\n",
        "   -  The Type casting is the process of converting a variable's data type from one type to another.\n",
        "\n",
        "10. What is the difference between implicit and explicit type casting?\n",
        "    - The implicit type casting happens automatically, while explicit type casting requires the programmer to intervene.\n",
        "\n",
        "11. What is the purpose of conditional statements in Python?\n",
        "   - The conditional statements means to control the flow of a program by evaluating conditions and executing code based on the outcome. They can make code more efficient and easier to use.\n",
        "\n",
        "12. How does the elif statement work?\n",
        "  - The 'elif'statement is stands for else if. It can be used in conditional statements to check for multiple conditions. For example, if the first conditionis false, it moved on the the next \"elif\" statement to check if that condition is true.\n",
        "\n",
        "13. What is the difference between for and while loops?\n",
        "   - the For loop used when the number of iterations is known in advance. this loop is also known as entry - controlled loops.\n",
        "   Meanwhile, The while loop used when the number of iterations is unknown in advance. this loop is also known as pre-tested loops.\n",
        "\n",
        "14. Describe a scenario where a while loop is more suitable than a for loop.\n",
        "   - The while loop is more suitable when the numbers of loop iterations is not predetermined.\n",
        "   When you need your loop to be controlled by used input, when you need to repeat a code segment more than 100 times, and when you want to use an integer, in such cases the while loop is appropriate than a far loop.\n",
        "\n"
      ],
      "metadata": {
        "id": "7MXIEyIPbfdF"
      }
    },
    {
      "cell_type": "markdown",
      "source": [
        "Practical questions is below"
      ],
      "metadata": {
        "id": "0LuiX0ULS6pe"
      }
    },
    {
      "cell_type": "code",
      "source": [
        "#1 Write a Python program to print \"Hello, World!_"
      ],
      "metadata": {
        "id": "yiGlUCwWyTVF"
      },
      "execution_count": null,
      "outputs": []
    },
    {
      "cell_type": "code",
      "source": [
        "print (\"Hello, world!\")"
      ],
      "metadata": {
        "id": "bFBXHH28a9tF",
        "colab": {
          "base_uri": "https://localhost:8080/"
        },
        "outputId": "fff4b620-5e5c-46f6-f5fb-632b0ec07b60"
      },
      "execution_count": 1,
      "outputs": [
        {
          "output_type": "stream",
          "name": "stdout",
          "text": [
            "Hello, world!\n"
          ]
        }
      ]
    },
    {
      "cell_type": "code",
      "source": [],
      "metadata": {
        "id": "c064RUa1S-mH"
      },
      "execution_count": null,
      "outputs": []
    },
    {
      "cell_type": "code",
      "source": [
        "#2 Write a Python program that displays your name and age\n",
        "name = \"Rimika Tiwari\"\n",
        "age  = 30\n",
        "print(\"name:\", name)\n",
        "print(\"age:\", age)"
      ],
      "metadata": {
        "colab": {
          "base_uri": "https://localhost:8080/"
        },
        "id": "0c0yM9qDy_Qy",
        "outputId": "693c3eb3-96b2-4307-ae62-56f40c8ec569"
      },
      "execution_count": null,
      "outputs": [
        {
          "output_type": "stream",
          "name": "stdout",
          "text": [
            "name: Rimika Tiwari\n",
            "age: 30\n"
          ]
        }
      ]
    },
    {
      "cell_type": "code",
      "source": [
        "#3 Write code to print all the pre-defined keywords in Python using the keyword library\n",
        "import keyword\n",
        "\n",
        "print(\"python keywords:\")\n",
        "print(keyword.kwlist)"
      ],
      "metadata": {
        "colab": {
          "base_uri": "https://localhost:8080/"
        },
        "id": "QoDsca2i1UvV",
        "outputId": "1b447937-601e-42f5-dd9d-85d5a541db47"
      },
      "execution_count": 2,
      "outputs": [
        {
          "output_type": "stream",
          "name": "stdout",
          "text": [
            "python keywords:\n",
            "['False', 'None', 'True', 'and', 'as', 'assert', 'async', 'await', 'break', 'class', 'continue', 'def', 'del', 'elif', 'else', 'except', 'finally', 'for', 'from', 'global', 'if', 'import', 'in', 'is', 'lambda', 'nonlocal', 'not', 'or', 'pass', 'raise', 'return', 'try', 'while', 'with', 'yield']\n"
          ]
        }
      ]
    },
    {
      "cell_type": "code",
      "source": [
        "#4  Write a program that checks if a given word is a Python keyword\n",
        "import keyword\n",
        "\n",
        "word = input (\"Enter a word \")\n",
        "\n",
        "if keyword.iskeyword(word):\n",
        "  print(f\"'{word}' is a python keyword\")\n",
        "else:\n",
        "  print(f\"'{word}' is not a python keyword\")\n",
        "  #if you enter a key word'if' it will\n",
        "\n",
        "Enter a word: rimika\n",
        "'rimika' is not a python keyword\n",
        "\n",
        "\n"
      ],
      "metadata": {
        "colab": {
          "base_uri": "https://localhost:8080/",
          "height": 109
        },
        "id": "3mIeUX7Y2GMb",
        "outputId": "5ebe70e0-b509-41b8-ea5f-1d1a37ca8500"
      },
      "execution_count": 11,
      "outputs": [
        {
          "output_type": "error",
          "ename": "SyntaxError",
          "evalue": "invalid syntax (<ipython-input-11-3fa581660aeb>, line 12)",
          "traceback": [
            "\u001b[0;36m  File \u001b[0;32m\"<ipython-input-11-3fa581660aeb>\"\u001b[0;36m, line \u001b[0;32m12\u001b[0m\n\u001b[0;31m    Enter a word: if\u001b[0m\n\u001b[0m          ^\u001b[0m\n\u001b[0;31mSyntaxError\u001b[0m\u001b[0;31m:\u001b[0m invalid syntax\n"
          ]
        }
      ]
    },
    {
      "cell_type": "code",
      "source": [
        "#5 Create a list and tuple in Python, and demonstrate how attempting to change an element works differently for each\n",
        "#create a list and a tuple\n",
        "my_list = [1, 2, 3, 4]\n",
        "my_tuple = [1, 2, 3, 4]\n",
        "\n",
        "# Create a list and tuple in Python, and demonstrate how attempting to change an element works differently for each\n",
        "#create a list and a tuple\n",
        "my_list = [1, 2, 3, 4]\n",
        "my_tuple = (1, 2, 3, 4)\n",
        "\n",
        "# attempt to change an element in the\n",
        "my_list[2] = 99\n",
        "print(\"updated list:\", my_list)\n",
        "\n",
        "# Attempt to change an element in the try:\n",
        "\n"
      ],
      "metadata": {
        "colab": {
          "base_uri": "https://localhost:8080/"
        },
        "id": "YJEdYcVb5tMH",
        "outputId": "9309fbb1-af05-4bb0-ae12-7db9c72453ab"
      },
      "execution_count": 12,
      "outputs": [
        {
          "output_type": "stream",
          "name": "stdout",
          "text": [
            "updated list: [1, 2, 99, 4]\n"
          ]
        }
      ]
    },
    {
      "cell_type": "code",
      "source": [
        "#6  Write a function to demonstrate the behavior of mutable and immutable arguments\n",
        "def modify_data(mutable_arg, immutable_arg):\n",
        "    # Modifying the mutable argument (a list)\n",
        "    print(\"Original mutable argument:\", mutable_arg)\n",
        "    mutable_arg[1] = 100  # Modifying the first element of the list\n",
        "    print(\"Modified mutable argument:\", mutable_arg)\n",
        "\n",
        "    # Modifying the immutable argument (a string)\n",
        "    print(\"Original immutable argument:\", immutable_arg)\n",
        "    immutable_arg = \"New Value\"  # Reassigning the value of the string\n",
        "    print(\"Modified immutable argument:\", immutable_arg)\n",
        "\n",
        "# Creating a mutable argument (list) and an immutable argument (string)\n",
        "my_list = [1, 2, 3]\n",
        "my_string = \"Hello Rimika\"\n",
        "\n",
        "modify_data(my_list, my_string)\n",
        "\n",
        "print(\"Final value of the mutable argument (list) outside the function:\", my_list)\n",
        "print(\"Final value of the immutable argument (string) outside the function:\", my_string)\n",
        "\n",
        "\n",
        "Original mutable argument: [1, 2, 3]\n",
        "Modified mutable argument: [1, 100, 3]\n",
        "Original immutable argument: Hello Rimika\n",
        "Modified immutable argument: New Value\n",
        "Final value of the mutable argument (list) outside the function: [1, 100, 3]\n",
        "Final value of the immutable argument (string) outside the function: Hello Rimika\n",
        "\n"
      ],
      "metadata": {
        "colab": {
          "base_uri": "https://localhost:8080/",
          "height": 109
        },
        "id": "YwqLZ_bgAsCB",
        "outputId": "36b0d265-82c3-4e34-891a-ebf63e2b6f69"
      },
      "execution_count": 14,
      "outputs": [
        {
          "output_type": "error",
          "ename": "SyntaxError",
          "evalue": "invalid syntax (<ipython-input-14-4d2015af073d>, line 23)",
          "traceback": [
            "\u001b[0;36m  File \u001b[0;32m\"<ipython-input-14-4d2015af073d>\"\u001b[0;36m, line \u001b[0;32m23\u001b[0m\n\u001b[0;31m    Original mutable argument: [1, 2, 3]\u001b[0m\n\u001b[0m             ^\u001b[0m\n\u001b[0;31mSyntaxError\u001b[0m\u001b[0;31m:\u001b[0m invalid syntax\n"
          ]
        }
      ]
    },
    {
      "cell_type": "code",
      "source": [
        "#7  Write a function to demonstrate the behavior of mutable and immutable arguments\n",
        "def modify_data(mutable_arg, immutable_arg):\n",
        "    # Modifying the mutable argument (a list)\n",
        "    print(\"Original mutable argument:\", mutable_arg)\n",
        "    mutable_arg[1] = 100  # Modifying the first element of the list\n",
        "    print(\"Modified mutable argument:\", mutable_arg)\n",
        "\n",
        "    # Modifying the immutable argument (a string)\n",
        "    print(\"Original immutable argument:\", immutable_arg)\n",
        "    immutable_arg = \"New Value\"  # Reassigning the value of the string\n",
        "    print(\"Modified immutable argument:\", immutable_arg)\n",
        "\n",
        "# Creating a mutable argument (list) and an immutable argument (string)\n",
        "my_list = [1, 2, 3]\n",
        "my_string = \"Hello Rimika\"\n",
        "\n",
        "modify_data(my_list, my_string)\n",
        "\n",
        "print(\"Final value of the mutable argument (list) outside the function:\", my_list)\n",
        "print(\"Final value of the immutable argument (string) outside the function:\", my_string)\n",
        "\n",
        "\n",
        "Original mutable argument: [1, 2, 3]\n",
        "Modified mutable argument: [1, 100, 3]\n",
        "Original immutable argument: Hello Rimika\n",
        "Modified immutable argument: New Value\n",
        "Final value of the mutable argument (list) outside the function: [1, 100, 3]\n",
        "Final value of the immutable argument (string) outside the function: Hello Rimika\n",
        "\n"
      ],
      "metadata": {
        "id": "LoatGvLXDTqX",
        "colab": {
          "base_uri": "https://localhost:8080/",
          "height": 109
        },
        "outputId": "1af663c6-e2ec-41b7-e5bc-98142562ca9c"
      },
      "execution_count": 15,
      "outputs": [
        {
          "output_type": "error",
          "ename": "SyntaxError",
          "evalue": "invalid syntax (<ipython-input-15-ac1ca493eebd>, line 23)",
          "traceback": [
            "\u001b[0;36m  File \u001b[0;32m\"<ipython-input-15-ac1ca493eebd>\"\u001b[0;36m, line \u001b[0;32m23\u001b[0m\n\u001b[0;31m    Original mutable argument: [1, 2, 3]\u001b[0m\n\u001b[0m             ^\u001b[0m\n\u001b[0;31mSyntaxError\u001b[0m\u001b[0;31m:\u001b[0m invalid syntax\n"
          ]
        }
      ]
    },
    {
      "cell_type": "code",
      "source": [
        "#8 Write a program to demonstrate the use of logical operators\n",
        "x = 8\n",
        "y = 12\n",
        "z = 15\n",
        "\n",
        "# Using 'and' logical operator\n",
        "print(\"Using 'and' operator:\")\n",
        "if x < y and z > y:\n",
        "    print(f\"Both conditions are true: x < y ({x < y}) and z > y ({z > y})\")\n",
        "\n",
        "# Using 'or' logical operator\n",
        "print(\"\\nUsing 'or' operator:\")\n",
        "if x > y or z > y:\n",
        "    print(f\"At least one condition is true: x > y ({x > y}) or z > y ({z > y})\")\n",
        "\n",
        "# Using 'not' logical operator\n",
        "print(\"\\nUsing 'not' operator:\")\n",
        "if not (x > y):\n",
        "    print(f\"Condition x > y is false, so 'not' makes it true: x > y ({x > y})\")\n",
        "\n",
        "# Combining multiple logical operators\n",
        "print(\"\\nCombining logical operators:\")\n",
        "if x < y and (z > y or y == 12):\n",
        "    print(f\"Combination of 'and' and 'or' is true: x < y ({x < y}), z > y ({z > y}) or y == 12 ({y == 12})\")\n"
      ],
      "metadata": {
        "colab": {
          "base_uri": "https://localhost:8080/"
        },
        "id": "2ssUucuUd7tE",
        "outputId": "35098efe-46cd-44ab-bbb7-31c59a78b8bd"
      },
      "execution_count": 16,
      "outputs": [
        {
          "output_type": "stream",
          "name": "stdout",
          "text": [
            "Using 'and' operator:\n",
            "Both conditions are true: x < y (True) and z > y (True)\n",
            "\n",
            "Using 'or' operator:\n",
            "At least one condition is true: x > y (False) or z > y (True)\n",
            "\n",
            "Using 'not' operator:\n",
            "Condition x > y is false, so 'not' makes it true: x > y (False)\n",
            "\n",
            "Combining logical operators:\n",
            "Combination of 'and' and 'or' is true: x < y (True), z > y (True) or y == 12 (True)\n"
          ]
        }
      ]
    },
    {
      "cell_type": "markdown",
      "source": [],
      "metadata": {
        "id": "KWy5jFhRd7Ws"
      }
    },
    {
      "cell_type": "code",
      "source": [
        "#9 Write a Python program to convert user input from string to integer, float, and boolean types\n",
        "user_input = input(\"Enter something: \")\n",
        "\n",
        "# Converting string to integer (if possible)\n",
        "if user_input.isdigit():  # Check if the input consists of digits\n",
        "    user_input_int = int(user_input)\n",
        "    print(f\"Converted to integer: {user_input_int}\")\n",
        "else:\n",
        "    print(\"Cannot convert to integer.\")\n",
        "\n",
        "# Converting string to float (if possible)\n",
        "if user_input.replace('.', '', 1).isdigit() and user_input.count('.') < 2:  # Check if it can be converted to float\n",
        "    user_input_float = float(user_input)\n",
        "    print(f\"Converted to float: {user_input_float}\")\n",
        "else:\n",
        "    print(\"Cannot convert to float.\")\n",
        "\n",
        "# Converting string to boolean\n",
        "if user_input.lower() == \"true\":\n",
        "    user_input_bool = True\n",
        "elif user_input.lower() == \"false\":\n",
        "    user_input_bool = False\n",
        "else:\n",
        "    user_input_bool = bool(user_input)  # Converts non-empty string to True, empty string to False\n",
        "\n",
        "print(f\"Converted to boolean: {user_input_bool}\")\n",
        "\n"
      ],
      "metadata": {
        "id": "jjiPtboNeq6Y"
      },
      "execution_count": null,
      "outputs": []
    },
    {
      "cell_type": "code",
      "source": [
        "#10 Write code to demonstrate type casting with list elements\n",
        "\n",
        "my_list = ['10', '20.5', 'True', 'False', 'Rimika']\n",
        "\n",
        "# Convert elements to integer, float, boolean, or string where applicable\n",
        "converted_list = []\n",
        "\n",
        "for item in my_list:\n",
        "    if item.isdigit():  # Convert to integer if it's a whole number\n",
        "        converted_list.append(int(item))\n",
        "    elif item.replace('.', '', 1).isdigit() and item.count('.') == 1:  # Convert to float if it's a decimal number\n",
        "        converted_list.append(float(item))\n",
        "    elif item.lower() == 'true':  # Convert to boolean True\n",
        "        converted_list.append(True)\n",
        "    elif item.lower() == 'false':  # Convert to boolean False\n",
        "        converted_list.append(False)\n",
        "    else:  # Keep as string\n",
        "        converted_list.append(item)\n",
        "\n",
        "# Display results\n",
        "print(\"Original list:\", my_list)\n",
        "print(\"Converted list:\", converted_list)"
      ],
      "metadata": {
        "colab": {
          "base_uri": "https://localhost:8080/"
        },
        "id": "jcFl3pI8gXp4",
        "outputId": "f9c9658d-39d6-4578-f977-df7fb192b282"
      },
      "execution_count": 24,
      "outputs": [
        {
          "output_type": "stream",
          "name": "stdout",
          "text": [
            "Original list: ['10', '20.5', 'True', 'False', 'Rimika']\n",
            "Converted list: [10, 20.5, True, False, 'Rimika']\n"
          ]
        }
      ]
    },
    {
      "cell_type": "code",
      "source": [
        "#11 Write a program that checks if a number is positive, negative, or zero\n",
        "number = float(input(\"Enter a number: \"))\n",
        "\n",
        "# Check if the number is positive, negative, or zero\n",
        "if number > 0:\n",
        "    print(f\"The number {number} is positive.\")\n",
        "elif number < 0:\n",
        "    print(f\"The number {number} is negative.\")\n",
        "else:\n",
        "    print(\"The number is zero.\")\n"
      ],
      "metadata": {
        "colab": {
          "base_uri": "https://localhost:8080/",
          "height": 369
        },
        "id": "5m3L4MEmgwym",
        "outputId": "899c2164-483c-4800-f2c4-31d3da5b0f8a"
      },
      "execution_count": 26,
      "outputs": [
        {
          "output_type": "error",
          "ename": "KeyboardInterrupt",
          "evalue": "Interrupted by user",
          "traceback": [
            "\u001b[0;31m---------------------------------------------------------------------------\u001b[0m",
            "\u001b[0;31mKeyboardInterrupt\u001b[0m                         Traceback (most recent call last)",
            "\u001b[0;32m<ipython-input-26-81958e291f15>\u001b[0m in \u001b[0;36m<cell line: 2>\u001b[0;34m()\u001b[0m\n\u001b[1;32m      1\u001b[0m \u001b[0;31m#11 Write a program that checks if a number is positive, negative, or zero\u001b[0m\u001b[0;34m\u001b[0m\u001b[0;34m\u001b[0m\u001b[0m\n\u001b[0;32m----> 2\u001b[0;31m \u001b[0mnumber\u001b[0m \u001b[0;34m=\u001b[0m \u001b[0mfloat\u001b[0m\u001b[0;34m(\u001b[0m\u001b[0minput\u001b[0m\u001b[0;34m(\u001b[0m\u001b[0;34m\"Enter a number: \"\u001b[0m\u001b[0;34m)\u001b[0m\u001b[0;34m)\u001b[0m\u001b[0;34m\u001b[0m\u001b[0;34m\u001b[0m\u001b[0m\n\u001b[0m\u001b[1;32m      3\u001b[0m \u001b[0;34m\u001b[0m\u001b[0m\n\u001b[1;32m      4\u001b[0m \u001b[0;31m# Check if the number is positive, negative, or zero\u001b[0m\u001b[0;34m\u001b[0m\u001b[0;34m\u001b[0m\u001b[0m\n\u001b[1;32m      5\u001b[0m \u001b[0;32mif\u001b[0m \u001b[0mnumber\u001b[0m \u001b[0;34m>\u001b[0m \u001b[0;36m0\u001b[0m\u001b[0;34m:\u001b[0m\u001b[0;34m\u001b[0m\u001b[0;34m\u001b[0m\u001b[0m\n",
            "\u001b[0;32m/usr/local/lib/python3.10/dist-packages/ipykernel/kernelbase.py\u001b[0m in \u001b[0;36mraw_input\u001b[0;34m(self, prompt)\u001b[0m\n\u001b[1;32m    849\u001b[0m                 \u001b[0;34m\"raw_input was called, but this frontend does not support input requests.\"\u001b[0m\u001b[0;34m\u001b[0m\u001b[0;34m\u001b[0m\u001b[0m\n\u001b[1;32m    850\u001b[0m             )\n\u001b[0;32m--> 851\u001b[0;31m         return self._input_request(str(prompt),\n\u001b[0m\u001b[1;32m    852\u001b[0m             \u001b[0mself\u001b[0m\u001b[0;34m.\u001b[0m\u001b[0m_parent_ident\u001b[0m\u001b[0;34m,\u001b[0m\u001b[0;34m\u001b[0m\u001b[0;34m\u001b[0m\u001b[0m\n\u001b[1;32m    853\u001b[0m             \u001b[0mself\u001b[0m\u001b[0;34m.\u001b[0m\u001b[0m_parent_header\u001b[0m\u001b[0;34m,\u001b[0m\u001b[0;34m\u001b[0m\u001b[0;34m\u001b[0m\u001b[0m\n",
            "\u001b[0;32m/usr/local/lib/python3.10/dist-packages/ipykernel/kernelbase.py\u001b[0m in \u001b[0;36m_input_request\u001b[0;34m(self, prompt, ident, parent, password)\u001b[0m\n\u001b[1;32m    893\u001b[0m             \u001b[0;32mexcept\u001b[0m \u001b[0mKeyboardInterrupt\u001b[0m\u001b[0;34m:\u001b[0m\u001b[0;34m\u001b[0m\u001b[0;34m\u001b[0m\u001b[0m\n\u001b[1;32m    894\u001b[0m                 \u001b[0;31m# re-raise KeyboardInterrupt, to truncate traceback\u001b[0m\u001b[0;34m\u001b[0m\u001b[0;34m\u001b[0m\u001b[0m\n\u001b[0;32m--> 895\u001b[0;31m                 \u001b[0;32mraise\u001b[0m \u001b[0mKeyboardInterrupt\u001b[0m\u001b[0;34m(\u001b[0m\u001b[0;34m\"Interrupted by user\"\u001b[0m\u001b[0;34m)\u001b[0m \u001b[0;32mfrom\u001b[0m \u001b[0;32mNone\u001b[0m\u001b[0;34m\u001b[0m\u001b[0;34m\u001b[0m\u001b[0m\n\u001b[0m\u001b[1;32m    896\u001b[0m             \u001b[0;32mexcept\u001b[0m \u001b[0mException\u001b[0m \u001b[0;32mas\u001b[0m \u001b[0me\u001b[0m\u001b[0;34m:\u001b[0m\u001b[0;34m\u001b[0m\u001b[0;34m\u001b[0m\u001b[0m\n\u001b[1;32m    897\u001b[0m                 \u001b[0mself\u001b[0m\u001b[0;34m.\u001b[0m\u001b[0mlog\u001b[0m\u001b[0;34m.\u001b[0m\u001b[0mwarning\u001b[0m\u001b[0;34m(\u001b[0m\u001b[0;34m\"Invalid Message:\"\u001b[0m\u001b[0;34m,\u001b[0m \u001b[0mexc_info\u001b[0m\u001b[0;34m=\u001b[0m\u001b[0;32mTrue\u001b[0m\u001b[0;34m)\u001b[0m\u001b[0;34m\u001b[0m\u001b[0;34m\u001b[0m\u001b[0m\n",
            "\u001b[0;31mKeyboardInterrupt\u001b[0m: Interrupted by user"
          ]
        }
      ]
    },
    {
      "cell_type": "code",
      "source": [
        "#12 Write a for loop to print numbers from 1 to 10\n",
        "for number in range(1,11):\n",
        "  print(number)\n"
      ],
      "metadata": {
        "colab": {
          "base_uri": "https://localhost:8080/"
        },
        "id": "rADr_oiDhjgM",
        "outputId": "4bd936f9-4baf-4121-c5ef-fe91b36b9df7"
      },
      "execution_count": 27,
      "outputs": [
        {
          "output_type": "stream",
          "name": "stdout",
          "text": [
            "1\n",
            "2\n",
            "3\n",
            "4\n",
            "5\n",
            "6\n",
            "7\n",
            "8\n",
            "9\n",
            "10\n"
          ]
        }
      ]
    },
    {
      "cell_type": "code",
      "source": [
        "#13 Write a Python program to find the sum of all even numbers between 1 and 50\n",
        "# Initialize a variable to store the sum\n",
        "sum_of_evens = 0\n",
        "\n",
        "for number in range(1, 51):\n",
        "    if number % 2 == 0:\n",
        "        sum_of_evens += number\n",
        "\n",
        "print(\"The sum of all even numbers between 1 and 50 is:\", sum_of_evens)\n"
      ],
      "metadata": {
        "colab": {
          "base_uri": "https://localhost:8080/"
        },
        "id": "7mBcHT1uhxPI",
        "outputId": "80ac1f95-f274-4fc6-a382-cc9269fa265e"
      },
      "execution_count": 28,
      "outputs": [
        {
          "output_type": "stream",
          "name": "stdout",
          "text": [
            "The sum of all even numbers between 1 and 50 is: 650\n"
          ]
        }
      ]
    },
    {
      "cell_type": "code",
      "source": [
        "#14 Write a program to reverse a string using a while loop\n",
        "original_string = input(\"Enter a string: \")\n",
        "\n",
        "rev_str = \"\"\n",
        "index = len(original_string) - 1\n",
        "\n",
        "while index >= 0:\n",
        "    rev_str += original_string[index]\n",
        "    index -= 1\n",
        "\n",
        "print(\"Reversed string:\", rev_str)\n"
      ],
      "metadata": {
        "colab": {
          "base_uri": "https://localhost:8080/",
          "height": 369
        },
        "id": "NRQG_SLrh9W1",
        "outputId": "7c4ef25c-c7d2-4f36-8381-925fe0771aac"
      },
      "execution_count": 29,
      "outputs": [
        {
          "output_type": "error",
          "ename": "KeyboardInterrupt",
          "evalue": "Interrupted by user",
          "traceback": [
            "\u001b[0;31m---------------------------------------------------------------------------\u001b[0m",
            "\u001b[0;31mKeyboardInterrupt\u001b[0m                         Traceback (most recent call last)",
            "\u001b[0;32m<ipython-input-29-10fc29b717c9>\u001b[0m in \u001b[0;36m<cell line: 2>\u001b[0;34m()\u001b[0m\n\u001b[1;32m      1\u001b[0m \u001b[0;31m#14 Write a program to reverse a string using a while loop\u001b[0m\u001b[0;34m\u001b[0m\u001b[0;34m\u001b[0m\u001b[0m\n\u001b[0;32m----> 2\u001b[0;31m \u001b[0moriginal_string\u001b[0m \u001b[0;34m=\u001b[0m \u001b[0minput\u001b[0m\u001b[0;34m(\u001b[0m\u001b[0;34m\"Enter a string: \"\u001b[0m\u001b[0;34m)\u001b[0m\u001b[0;34m\u001b[0m\u001b[0;34m\u001b[0m\u001b[0m\n\u001b[0m\u001b[1;32m      3\u001b[0m \u001b[0;34m\u001b[0m\u001b[0m\n\u001b[1;32m      4\u001b[0m \u001b[0mrev_str\u001b[0m \u001b[0;34m=\u001b[0m \u001b[0;34m\"\"\u001b[0m\u001b[0;34m\u001b[0m\u001b[0;34m\u001b[0m\u001b[0m\n\u001b[1;32m      5\u001b[0m \u001b[0mindex\u001b[0m \u001b[0;34m=\u001b[0m \u001b[0mlen\u001b[0m\u001b[0;34m(\u001b[0m\u001b[0moriginal_string\u001b[0m\u001b[0;34m)\u001b[0m \u001b[0;34m-\u001b[0m \u001b[0;36m1\u001b[0m\u001b[0;34m\u001b[0m\u001b[0;34m\u001b[0m\u001b[0m\n",
            "\u001b[0;32m/usr/local/lib/python3.10/dist-packages/ipykernel/kernelbase.py\u001b[0m in \u001b[0;36mraw_input\u001b[0;34m(self, prompt)\u001b[0m\n\u001b[1;32m    849\u001b[0m                 \u001b[0;34m\"raw_input was called, but this frontend does not support input requests.\"\u001b[0m\u001b[0;34m\u001b[0m\u001b[0;34m\u001b[0m\u001b[0m\n\u001b[1;32m    850\u001b[0m             )\n\u001b[0;32m--> 851\u001b[0;31m         return self._input_request(str(prompt),\n\u001b[0m\u001b[1;32m    852\u001b[0m             \u001b[0mself\u001b[0m\u001b[0;34m.\u001b[0m\u001b[0m_parent_ident\u001b[0m\u001b[0;34m,\u001b[0m\u001b[0;34m\u001b[0m\u001b[0;34m\u001b[0m\u001b[0m\n\u001b[1;32m    853\u001b[0m             \u001b[0mself\u001b[0m\u001b[0;34m.\u001b[0m\u001b[0m_parent_header\u001b[0m\u001b[0;34m,\u001b[0m\u001b[0;34m\u001b[0m\u001b[0;34m\u001b[0m\u001b[0m\n",
            "\u001b[0;32m/usr/local/lib/python3.10/dist-packages/ipykernel/kernelbase.py\u001b[0m in \u001b[0;36m_input_request\u001b[0;34m(self, prompt, ident, parent, password)\u001b[0m\n\u001b[1;32m    893\u001b[0m             \u001b[0;32mexcept\u001b[0m \u001b[0mKeyboardInterrupt\u001b[0m\u001b[0;34m:\u001b[0m\u001b[0;34m\u001b[0m\u001b[0;34m\u001b[0m\u001b[0m\n\u001b[1;32m    894\u001b[0m                 \u001b[0;31m# re-raise KeyboardInterrupt, to truncate traceback\u001b[0m\u001b[0;34m\u001b[0m\u001b[0;34m\u001b[0m\u001b[0m\n\u001b[0;32m--> 895\u001b[0;31m                 \u001b[0;32mraise\u001b[0m \u001b[0mKeyboardInterrupt\u001b[0m\u001b[0;34m(\u001b[0m\u001b[0;34m\"Interrupted by user\"\u001b[0m\u001b[0;34m)\u001b[0m \u001b[0;32mfrom\u001b[0m \u001b[0;32mNone\u001b[0m\u001b[0;34m\u001b[0m\u001b[0;34m\u001b[0m\u001b[0m\n\u001b[0m\u001b[1;32m    896\u001b[0m             \u001b[0;32mexcept\u001b[0m \u001b[0mException\u001b[0m \u001b[0;32mas\u001b[0m \u001b[0me\u001b[0m\u001b[0;34m:\u001b[0m\u001b[0;34m\u001b[0m\u001b[0;34m\u001b[0m\u001b[0m\n\u001b[1;32m    897\u001b[0m                 \u001b[0mself\u001b[0m\u001b[0;34m.\u001b[0m\u001b[0mlog\u001b[0m\u001b[0;34m.\u001b[0m\u001b[0mwarning\u001b[0m\u001b[0;34m(\u001b[0m\u001b[0;34m\"Invalid Message:\"\u001b[0m\u001b[0;34m,\u001b[0m \u001b[0mexc_info\u001b[0m\u001b[0;34m=\u001b[0m\u001b[0;32mTrue\u001b[0m\u001b[0;34m)\u001b[0m\u001b[0;34m\u001b[0m\u001b[0;34m\u001b[0m\u001b[0m\n",
            "\u001b[0;31mKeyboardInterrupt\u001b[0m: Interrupted by user"
          ]
        }
      ]
    },
    {
      "cell_type": "code",
      "source": [
        "#15 Write a Python program to calculate the factorial of a number provided by the user using a while loop\n",
        "\n",
        "number = int(input(\"Enter a non-negative integer: \"))\n",
        "\n",
        "factorial = 1\n",
        "current = number\n",
        "\n",
        "if number < 0:\n",
        "    print(\"Factorial is not defined for negative numbers.\")\n",
        "else:\n",
        "    while current > 0:\n",
        "        factorial *= current\n",
        "        current -= 1\n",
        "\n",
        "    print(f\"The factorial of {number} is: {factorial}\")\n",
        "\n",
        ""
      ],
      "metadata": {
        "colab": {
          "base_uri": "https://localhost:8080/",
          "height": 369
        },
        "id": "4z4geQhriUjE",
        "outputId": "2b71675c-b9f1-4146-9ffc-2c45d0671839"
      },
      "execution_count": 30,
      "outputs": [
        {
          "output_type": "error",
          "ename": "KeyboardInterrupt",
          "evalue": "Interrupted by user",
          "traceback": [
            "\u001b[0;31m---------------------------------------------------------------------------\u001b[0m",
            "\u001b[0;31mKeyboardInterrupt\u001b[0m                         Traceback (most recent call last)",
            "\u001b[0;32m<ipython-input-30-d6844a36c689>\u001b[0m in \u001b[0;36m<cell line: 3>\u001b[0;34m()\u001b[0m\n\u001b[1;32m      1\u001b[0m \u001b[0;31m#15 Write a Python program to calculate the factorial of a number provided by the user using a while loop\u001b[0m\u001b[0;34m\u001b[0m\u001b[0;34m\u001b[0m\u001b[0m\n\u001b[1;32m      2\u001b[0m \u001b[0;34m\u001b[0m\u001b[0m\n\u001b[0;32m----> 3\u001b[0;31m \u001b[0mnumber\u001b[0m \u001b[0;34m=\u001b[0m \u001b[0mint\u001b[0m\u001b[0;34m(\u001b[0m\u001b[0minput\u001b[0m\u001b[0;34m(\u001b[0m\u001b[0;34m\"Enter a non-negative integer: \"\u001b[0m\u001b[0;34m)\u001b[0m\u001b[0;34m)\u001b[0m\u001b[0;34m\u001b[0m\u001b[0;34m\u001b[0m\u001b[0m\n\u001b[0m\u001b[1;32m      4\u001b[0m \u001b[0;34m\u001b[0m\u001b[0m\n\u001b[1;32m      5\u001b[0m \u001b[0mfactorial\u001b[0m \u001b[0;34m=\u001b[0m \u001b[0;36m1\u001b[0m\u001b[0;34m\u001b[0m\u001b[0;34m\u001b[0m\u001b[0m\n",
            "\u001b[0;32m/usr/local/lib/python3.10/dist-packages/ipykernel/kernelbase.py\u001b[0m in \u001b[0;36mraw_input\u001b[0;34m(self, prompt)\u001b[0m\n\u001b[1;32m    849\u001b[0m                 \u001b[0;34m\"raw_input was called, but this frontend does not support input requests.\"\u001b[0m\u001b[0;34m\u001b[0m\u001b[0;34m\u001b[0m\u001b[0m\n\u001b[1;32m    850\u001b[0m             )\n\u001b[0;32m--> 851\u001b[0;31m         return self._input_request(str(prompt),\n\u001b[0m\u001b[1;32m    852\u001b[0m             \u001b[0mself\u001b[0m\u001b[0;34m.\u001b[0m\u001b[0m_parent_ident\u001b[0m\u001b[0;34m,\u001b[0m\u001b[0;34m\u001b[0m\u001b[0;34m\u001b[0m\u001b[0m\n\u001b[1;32m    853\u001b[0m             \u001b[0mself\u001b[0m\u001b[0;34m.\u001b[0m\u001b[0m_parent_header\u001b[0m\u001b[0;34m,\u001b[0m\u001b[0;34m\u001b[0m\u001b[0;34m\u001b[0m\u001b[0m\n",
            "\u001b[0;32m/usr/local/lib/python3.10/dist-packages/ipykernel/kernelbase.py\u001b[0m in \u001b[0;36m_input_request\u001b[0;34m(self, prompt, ident, parent, password)\u001b[0m\n\u001b[1;32m    893\u001b[0m             \u001b[0;32mexcept\u001b[0m \u001b[0mKeyboardInterrupt\u001b[0m\u001b[0;34m:\u001b[0m\u001b[0;34m\u001b[0m\u001b[0;34m\u001b[0m\u001b[0m\n\u001b[1;32m    894\u001b[0m                 \u001b[0;31m# re-raise KeyboardInterrupt, to truncate traceback\u001b[0m\u001b[0;34m\u001b[0m\u001b[0;34m\u001b[0m\u001b[0m\n\u001b[0;32m--> 895\u001b[0;31m                 \u001b[0;32mraise\u001b[0m \u001b[0mKeyboardInterrupt\u001b[0m\u001b[0;34m(\u001b[0m\u001b[0;34m\"Interrupted by user\"\u001b[0m\u001b[0;34m)\u001b[0m \u001b[0;32mfrom\u001b[0m \u001b[0;32mNone\u001b[0m\u001b[0;34m\u001b[0m\u001b[0;34m\u001b[0m\u001b[0m\n\u001b[0m\u001b[1;32m    896\u001b[0m             \u001b[0;32mexcept\u001b[0m \u001b[0mException\u001b[0m \u001b[0;32mas\u001b[0m \u001b[0me\u001b[0m\u001b[0;34m:\u001b[0m\u001b[0;34m\u001b[0m\u001b[0;34m\u001b[0m\u001b[0m\n\u001b[1;32m    897\u001b[0m                 \u001b[0mself\u001b[0m\u001b[0;34m.\u001b[0m\u001b[0mlog\u001b[0m\u001b[0;34m.\u001b[0m\u001b[0mwarning\u001b[0m\u001b[0;34m(\u001b[0m\u001b[0;34m\"Invalid Message:\"\u001b[0m\u001b[0;34m,\u001b[0m \u001b[0mexc_info\u001b[0m\u001b[0;34m=\u001b[0m\u001b[0;32mTrue\u001b[0m\u001b[0;34m)\u001b[0m\u001b[0;34m\u001b[0m\u001b[0;34m\u001b[0m\u001b[0m\n",
            "\u001b[0;31mKeyboardInterrupt\u001b[0m: Interrupted by user"
          ]
        }
      ]
    }
  ]
}